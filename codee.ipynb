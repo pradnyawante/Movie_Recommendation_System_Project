{
 "cells": [
  {
   "cell_type": "code",
   "execution_count": 1,
   "id": "4fa017dc-7a4e-4bf4-aeb4-9ad9cef8a3e2",
   "metadata": {},
   "outputs": [
    {
     "name": "stdout",
     "output_type": "stream",
     "text": [
      "Requirement already satisfied: scikit-learn in c:\\users\\admin\\appdata\\local\\programs\\python\\python312\\lib\\site-packages (1.6.1)\n",
      "Requirement already satisfied: numpy>=1.19.5 in c:\\users\\admin\\appdata\\local\\programs\\python\\python312\\lib\\site-packages (from scikit-learn) (1.26.4)\n",
      "Requirement already satisfied: scipy>=1.6.0 in c:\\users\\admin\\appdata\\local\\programs\\python\\python312\\lib\\site-packages (from scikit-learn) (1.15.1)\n",
      "Requirement already satisfied: joblib>=1.2.0 in c:\\users\\admin\\appdata\\local\\programs\\python\\python312\\lib\\site-packages (from scikit-learn) (1.4.2)\n",
      "Requirement already satisfied: threadpoolctl>=3.1.0 in c:\\users\\admin\\appdata\\local\\programs\\python\\python312\\lib\\site-packages (from scikit-learn) (3.5.0)\n"
     ]
    },
    {
     "name": "stderr",
     "output_type": "stream",
     "text": [
      "\n",
      "[notice] A new release of pip is available: 24.0 -> 24.3.1\n",
      "[notice] To update, run: python.exe -m pip install --upgrade pip\n"
     ]
    }
   ],
   "source": [
    "!pip install scikit-learn"
   ]
  },
  {
   "cell_type": "code",
   "execution_count": 2,
   "id": "71af6fe8-22e6-478c-9a2a-f4aea1ea05b6",
   "metadata": {},
   "outputs": [],
   "source": [
    "import pandas as pd\n",
    "from sklearn.feature_extraction.text import TfidfVectorizer\n",
    "from sklearn.metrics.pairwise import cosine_similarity"
   ]
  },
  {
   "cell_type": "code",
   "execution_count": 3,
   "id": "cf00b3ac-9762-4c44-979d-c4fead2f0c65",
   "metadata": {},
   "outputs": [],
   "source": [
    "def load_data():\n",
    "    \"\"\"Load movie dataset.\"\"\"\n",
    "    try:\n",
    "        # Sample dataset (replace this with your actual dataset path)\n",
    "        movies = pd.read_csv('movies.csv').head(1000)\n",
    "        print(\"Dataset loaded successfully.\")\n",
    "        return movies\n",
    "    except FileNotFoundError:\n",
    "        print(\"Dataset not found. Ensure the file 'movies.csv' is in the current directory.\")\n",
    "        return None"
   ]
  },
  {
   "cell_type": "code",
   "execution_count": 4,
   "id": "c1f727d4-8d7b-4981-9bb7-9581aca7c933",
   "metadata": {},
   "outputs": [],
   "source": [
    "def preprocess_data(movies):\n",
    "    \"\"\"Preprocess the movie dataset.\"\"\"\n",
    "    movies = movies.dropna(subset=['title', 'genres'])  # Drop rows with missing titles or genres\n",
    "    movies['genres'] = movies['genres'].str.replace('|', ' ')  # Replace '|' with spaces in genres\n",
    "    movies['genres'] = movies['genres'].str.lower()  # Make all genres lowercase for better comparison\n",
    "    return movies"
   ]
  },
  {
   "cell_type": "code",
   "execution_count": 5,
   "id": "b6f3352d-e134-489b-b105-fb38e66b762f",
   "metadata": {},
   "outputs": [],
   "source": [
    "def build_recommendation_system(movies):\n",
    "    \"\"\"Build a content-based movie recommendation system using TF-IDF and cosine similarity.\"\"\"\n",
    "    # Convert genres to feature vectors using TF-IDF\n",
    "    tfidf = TfidfVectorizer(stop_words='english')\n",
    "    tfidf_matrix = tfidf.fit_transform(movies['genres'])\n",
    "\n",
    "    # Compute cosine similarity between all movies\n",
    "    cosine_sim = cosine_similarity(tfidf_matrix, tfidf_matrix)\n",
    "\n",
    "    # Map movie titles to indices\n",
    "    indices = pd.Series(movies.index, index=movies['title']).drop_duplicates()\n",
    "\n",
    "    return cosine_sim, indices\n"
   ]
  },
  {
   "cell_type": "code",
   "execution_count": 6,
   "id": "62e4c5a5-7513-4f7e-94c1-f0d0ba126a27",
   "metadata": {},
   "outputs": [],
   "source": [
    "def get_recommendations(title, cosine_sim, indices, movies):\n",
    "    \"\"\"Get top 10 movie recommendations based on a given title.\"\"\"\n",
    "    try:\n",
    "        idx = indices[title]\n",
    "    except KeyError:\n",
    "        print(f\"Movie '{title}' not found in the dataset.\")\n",
    "        return []\n",
    "\n",
    "    # Get pairwise similarity scores for all movies\n",
    "    sim_scores = list(enumerate(cosine_sim[idx]))\n",
    "\n",
    "    # Sort movies by similarity scores\n",
    "    sim_scores = sorted(sim_scores, key=lambda x: x[1], reverse=True)\n",
    "\n",
    "    # Get indices of the top 10 most similar movies (excluding the first one as it is the movie itself)\n",
    "    sim_scores = sim_scores[1:11]  # Exclude the first movie (itself)\n",
    "    movie_indices = [i[0] for i in sim_scores]\n",
    "\n",
    "    return movies['title'].iloc[movie_indices].tolist()\n"
   ]
  },
  {
   "cell_type": "code",
   "execution_count": 7,
   "id": "506fddfe-4a54-49be-b4df-237c62fb7e77",
   "metadata": {},
   "outputs": [
    {
     "name": "stdout",
     "output_type": "stream",
     "text": [
      "Dataset loaded successfully.\n"
     ]
    },
    {
     "name": "stdin",
     "output_type": "stream",
     "text": [
      "Enter a movie title to get recommendations:  Toy Story (1995)\n"
     ]
    },
    {
     "name": "stdout",
     "output_type": "stream",
     "text": [
      "Top 10 movie recommendations:\n",
      "1. Pagemaster, The (1994)\n",
      "2. James and the Giant Peach (1996)\n",
      "3. Balto (1995)\n",
      "4. Space Jam (1996)\n",
      "5. Kids of the Round Table (1995)\n",
      "6. All Dogs Go to Heaven 2 (1996)\n",
      "7. Jumanji (1995)\n",
      "8. Indian in the Cupboard, The (1995)\n",
      "9. NeverEnding Story III, The (1994)\n",
      "10. Escape to Witch Mountain (1975)\n"
     ]
    }
   ],
   "source": [
    "def main():\n",
    "    movies = load_data()\n",
    "    if movies is None:\n",
    "        return\n",
    "\n",
    "    # Preprocess the data\n",
    "    movies = preprocess_data(movies)\n",
    "\n",
    "    # Build recommendation system\n",
    "    cosine_sim, indices = build_recommendation_system(movies)\n",
    "\n",
    "    # Test the recommendation system\n",
    "    test_movie = input(\"Enter a movie title to get recommendations: \").strip().lower()\n",
    "    \n",
    "    # Ensure movie title exists (case insensitive check)\n",
    "    if test_movie not in [title.lower() for title in movies['title']]:\n",
    "        print(f\"Movie '{test_movie}' not found in the dataset.\")\n",
    "        return\n",
    "\n",
    "    recommendations = get_recommendations(test_movie.title(), cosine_sim, indices, movies)\n",
    "\n",
    "    if recommendations:\n",
    "        print(\"Top 10 movie recommendations:\")\n",
    "        for i, rec in enumerate(recommendations, 1):\n",
    "            print(f\"{i}. {rec}\")\n",
    "    else:\n",
    "        print(\"No recommendations found.\")\n",
    "\n",
    "if __name__ == \"__main__\":\n",
    "    main()"
   ]
  },
  {
   "cell_type": "code",
   "execution_count": null,
   "id": "2758b906-0cee-42f0-957c-36eada1b4a3f",
   "metadata": {},
   "outputs": [],
   "source": []
  },
  {
   "cell_type": "code",
   "execution_count": null,
   "id": "50775969-b6fb-4f8d-a61f-81f21f216d14",
   "metadata": {},
   "outputs": [],
   "source": []
  }
 ],
 "metadata": {
  "kernelspec": {
   "display_name": "Python 3 (ipykernel)",
   "language": "python",
   "name": "python3"
  },
  "language_info": {
   "codemirror_mode": {
    "name": "ipython",
    "version": 3
   },
   "file_extension": ".py",
   "mimetype": "text/x-python",
   "name": "python",
   "nbconvert_exporter": "python",
   "pygments_lexer": "ipython3",
   "version": "3.12.2"
  }
 },
 "nbformat": 4,
 "nbformat_minor": 5
}
